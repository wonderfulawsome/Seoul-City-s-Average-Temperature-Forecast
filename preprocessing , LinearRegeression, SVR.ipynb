{
 "cells": [
  {
   "cell_type": "markdown",
   "id": "e8951207",
   "metadata": {},
   "source": [
    "## 데이터"
   ]
  },
  {
   "cell_type": "code",
   "execution_count": 1,
   "id": "4a621c93",
   "metadata": {},
   "outputs": [],
   "source": [
    "import pandas as pd\n",
    "import numpy as np\n",
    "from sklearn.linear_model import LinearRegression\n",
    "\n",
    "# Load the training data\n",
    "train_data_path = 'C:/Users/82106/Desktop/데이터분석 프로젝트/서울시 평균 기온 예측/data/open/train.csv'\n",
    "train_data = pd.read_csv(train_data_path)"
   ]
  },
  {
   "cell_type": "markdown",
   "id": "2ce8861b",
   "metadata": {},
   "source": [
    "## 결측치 처리"
   ]
  },
  {
   "cell_type": "code",
   "execution_count": 2,
   "id": "d298eab6",
   "metadata": {},
   "outputs": [
    {
     "data": {
      "text/html": [
       "<div>\n",
       "<style scoped>\n",
       "    .dataframe tbody tr th:only-of-type {\n",
       "        vertical-align: middle;\n",
       "    }\n",
       "\n",
       "    .dataframe tbody tr th {\n",
       "        vertical-align: top;\n",
       "    }\n",
       "\n",
       "    .dataframe thead th {\n",
       "        text-align: right;\n",
       "    }\n",
       "</style>\n",
       "<table border=\"1\" class=\"dataframe\">\n",
       "  <thead>\n",
       "    <tr style=\"text-align: right;\">\n",
       "      <th></th>\n",
       "      <th>Missing Values</th>\n",
       "      <th>Percentage (%)</th>\n",
       "    </tr>\n",
       "  </thead>\n",
       "  <tbody>\n",
       "    <tr>\n",
       "      <th>최고기온</th>\n",
       "      <td>3</td>\n",
       "      <td>0.013037</td>\n",
       "    </tr>\n",
       "    <tr>\n",
       "      <th>최저기온</th>\n",
       "      <td>3</td>\n",
       "      <td>0.013037</td>\n",
       "    </tr>\n",
       "    <tr>\n",
       "      <th>일교차</th>\n",
       "      <td>4</td>\n",
       "      <td>0.017383</td>\n",
       "    </tr>\n",
       "    <tr>\n",
       "      <th>강수량</th>\n",
       "      <td>13861</td>\n",
       "      <td>60.236409</td>\n",
       "    </tr>\n",
       "    <tr>\n",
       "      <th>평균풍속</th>\n",
       "      <td>4</td>\n",
       "      <td>0.017383</td>\n",
       "    </tr>\n",
       "    <tr>\n",
       "      <th>일조합</th>\n",
       "      <td>118</td>\n",
       "      <td>0.512798</td>\n",
       "    </tr>\n",
       "    <tr>\n",
       "      <th>일사합</th>\n",
       "      <td>4862</td>\n",
       "      <td>21.129025</td>\n",
       "    </tr>\n",
       "    <tr>\n",
       "      <th>일조율</th>\n",
       "      <td>366</td>\n",
       "      <td>1.590544</td>\n",
       "    </tr>\n",
       "  </tbody>\n",
       "</table>\n",
       "</div>"
      ],
      "text/plain": [
       "      Missing Values  Percentage (%)\n",
       "최고기온               3        0.013037\n",
       "최저기온               3        0.013037\n",
       "일교차                4        0.017383\n",
       "강수량            13861       60.236409\n",
       "평균풍속               4        0.017383\n",
       "일조합              118        0.512798\n",
       "일사합             4862       21.129025\n",
       "일조율              366        1.590544"
      ]
     },
     "execution_count": 2,
     "metadata": {},
     "output_type": "execute_result"
    }
   ],
   "source": [
    "# Check for missing values in the training data\n",
    "missing_values = train_data.isnull().sum()\n",
    "missing_values_percentage = (missing_values / len(train_data)) * 100\n",
    "\n",
    "missing_values_info = pd.DataFrame({\n",
    "    'Missing Values': missing_values, \n",
    "    'Percentage (%)': missing_values_percentage\n",
    "})\n",
    "\n",
    "missing_values_info[missing_values_info['Missing Values'] > 0]\n"
   ]
  },
  {
   "cell_type": "code",
   "execution_count": 3,
   "id": "829a23e4",
   "metadata": {},
   "outputs": [
    {
     "data": {
      "text/plain": [
       "0"
      ]
     },
     "execution_count": 3,
     "metadata": {},
     "output_type": "execute_result"
    }
   ],
   "source": [
    "# Filling missing values\n",
    "# For precipitation (강수량), assume 0 where data is missing\n",
    "# For other features with very few missing values, use median to fill the gaps\n",
    "\n",
    "train_data['강수량'].fillna(0, inplace=True)\n",
    "train_data['일조합'].fillna(0, inplace=True)\n",
    "train_data['일조율'].fillna(0, inplace=True)\n",
    "\n",
    "# For other features, using median\n",
    "features_to_fill_median = ['최고기온', '최저기온', '일교차', '평균풍속', '일사합']\n",
    "train_data[features_to_fill_median] = train_data[features_to_fill_median].fillna(train_data[features_to_fill_median].median())\n",
    "\n",
    "# Check if there are any missing values left\n",
    "remaining_missing_values = train_data.isnull().sum().sum()\n",
    "\n",
    "remaining_missing_values\n"
   ]
  },
  {
   "cell_type": "markdown",
   "id": "9eff982f",
   "metadata": {},
   "source": [
    "## 범주형 원핫인코딩"
   ]
  },
  {
   "cell_type": "code",
   "execution_count": 4,
   "id": "d7ba858c",
   "metadata": {},
   "outputs": [
    {
     "name": "stdout",
     "output_type": "stream",
     "text": [
      "범주형 열 목록: ['일시']\n"
     ]
    }
   ],
   "source": [
    "# 데이터프레임의 열 데이터 유형 확인\n",
    "data_types = train_data.dtypes\n",
    "\n",
    "# 범주형 열을 저장할 리스트 초기화\n",
    "categorical_columns = []\n",
    "\n",
    "# 열 데이터 유형이 object인 열을 찾아 범주형 열로 판단\n",
    "for column, dtype in data_types.items():\n",
    "    if dtype == 'object':\n",
    "        categorical_columns.append(column)\n",
    "\n",
    "# 범주형 열 목록 출력\n",
    "print(\"범주형 열 목록:\", categorical_columns)\n"
   ]
  },
  {
   "cell_type": "code",
   "execution_count": 5,
   "id": "b0187dbf",
   "metadata": {},
   "outputs": [
    {
     "name": "stdout",
     "output_type": "stream",
     "text": [
      "   최고기온  최저기온   일교차  강수량  평균습도  평균풍속  일조합    일사합  일조율  평균기온  ...  \\\n",
      "0   2.2  -5.2   7.4  0.0  68.3   1.7  6.7  11.22  0.0  -1.6  ...   \n",
      "1   1.2  -5.6   6.8  0.4  87.7   1.3  0.0  11.22  0.0  -1.9  ...   \n",
      "2   8.7  -2.1  10.8  0.0  81.3   3.0  0.0  11.22  0.0   4.0  ...   \n",
      "3  10.8   1.2   9.6  0.0  79.7   4.4  2.6  11.22  0.0   7.5  ...   \n",
      "4   1.3  -8.2   9.5  0.0  44.0   5.1  8.2  11.22  0.0  -4.6  ...   \n",
      "\n",
      "   일시_2022-12-22  일시_2022-12-23  일시_2022-12-24  일시_2022-12-25  일시_2022-12-26  \\\n",
      "0              0              0              0              0              0   \n",
      "1              0              0              0              0              0   \n",
      "2              0              0              0              0              0   \n",
      "3              0              0              0              0              0   \n",
      "4              0              0              0              0              0   \n",
      "\n",
      "   일시_2022-12-27  일시_2022-12-28  일시_2022-12-29  일시_2022-12-30  일시_2022-12-31  \n",
      "0              0              0              0              0              0  \n",
      "1              0              0              0              0              0  \n",
      "2              0              0              0              0              0  \n",
      "3              0              0              0              0              0  \n",
      "4              0              0              0              0              0  \n",
      "\n",
      "[5 rows x 23021 columns]\n"
     ]
    }
   ],
   "source": [
    "# 범주형 열을 원-핫 인코딩으로 변환\n",
    "train_data = pd.get_dummies(train_data, columns=['일시'])\n",
    "\n",
    "# 원-핫 인코딩된 데이터 확인\n",
    "print(train_data.head())"
   ]
  },
  {
   "cell_type": "markdown",
   "id": "b44a1a3d",
   "metadata": {},
   "source": [
    "## 스케일링"
   ]
  },
  {
   "cell_type": "code",
   "execution_count": 6,
   "id": "a62aed2c",
   "metadata": {},
   "outputs": [
    {
     "name": "stdout",
     "output_type": "stream",
     "text": [
      "스케일링이 필요한 열: ['최고기온', '최저기온', '일교차', '강수량', '평균습도', '평균풍속', '일조합', '일사합', '일조율', '평균기온']\n"
     ]
    }
   ],
   "source": [
    "# 열별 데이터의 최솟값과 최댓값 확인\n",
    "column_min = train_data.min()\n",
    "column_max = train_data.max()\n",
    "\n",
    "# 열의 범위 계산\n",
    "column_range = column_max - column_min\n",
    "\n",
    "# 열의 범위가 큰 열을 출력\n",
    "scaling_required_columns = column_range[column_range > 1.0]\n",
    "print(\"스케일링이 필요한 열:\", scaling_required_columns.index.tolist())\n"
   ]
  },
  {
   "cell_type": "code",
   "execution_count": 7,
   "id": "7742d314",
   "metadata": {},
   "outputs": [
    {
     "name": "stdout",
     "output_type": "stream",
     "text": [
      "       최고기온      최저기온       일교차       강수량      평균습도      평균풍속       일조합  \\\n",
      "0  0.296992  0.297030  0.344086  0.000000  0.615385  0.207792  0.489051   \n",
      "1  0.278195  0.289109  0.311828  0.001202  0.852259  0.155844  0.000000   \n",
      "2  0.419173  0.358416  0.526882  0.000000  0.774115  0.376623  0.000000   \n",
      "3  0.458647  0.423762  0.462366  0.000000  0.754579  0.558442  0.189781   \n",
      "4  0.280075  0.237624  0.456989  0.000000  0.318681  0.649351  0.598540   \n",
      "\n",
      "        일사합  일조율      평균기온  ...  일시_2022-12-22  일시_2022-12-23  일시_2022-12-24  \\\n",
      "0  0.335125  0.0  0.295409  ...              0              0              0   \n",
      "1  0.335125  0.0  0.289421  ...              0              0              0   \n",
      "2  0.335125  0.0  0.407186  ...              0              0              0   \n",
      "3  0.335125  0.0  0.477046  ...              0              0              0   \n",
      "4  0.335125  0.0  0.235529  ...              0              0              0   \n",
      "\n",
      "   일시_2022-12-25  일시_2022-12-26  일시_2022-12-27  일시_2022-12-28  일시_2022-12-29  \\\n",
      "0              0              0              0              0              0   \n",
      "1              0              0              0              0              0   \n",
      "2              0              0              0              0              0   \n",
      "3              0              0              0              0              0   \n",
      "4              0              0              0              0              0   \n",
      "\n",
      "   일시_2022-12-30  일시_2022-12-31  \n",
      "0              0              0  \n",
      "1              0              0  \n",
      "2              0              0  \n",
      "3              0              0  \n",
      "4              0              0  \n",
      "\n",
      "[5 rows x 23021 columns]\n"
     ]
    }
   ],
   "source": [
    "from sklearn.preprocessing import MinMaxScaler\n",
    "\n",
    "# Min-Max 스케일러 생성\n",
    "scaler = MinMaxScaler()\n",
    "\n",
    "# 스케일링할 열 선택\n",
    "columns_to_scale = ['최고기온', '최저기온', '일교차', '강수량', '평균습도', '평균풍속', '일조합', '일사합', '일조율', '평균기온']  # 스케일링할 열 이름을 나열\n",
    "\n",
    "# 선택한 열에 Min-Max 스케일링 적용\n",
    "train_data[columns_to_scale] = scaler.fit_transform(train_data[columns_to_scale])\n",
    "\n",
    "# 스케일링된 데이터 확인\n",
    "print(train_data.head())\n"
   ]
  },
  {
   "cell_type": "markdown",
   "id": "0fa7d62b",
   "metadata": {},
   "source": [
    "## 타겟변수 분리"
   ]
  },
  {
   "cell_type": "code",
   "execution_count": 11,
   "id": "c930f623",
   "metadata": {},
   "outputs": [],
   "source": [
    "# 입력 특성과 타겟 변수 분리\n",
    "X = train_data.drop(columns=['평균기온'])\n",
    "y = train_data['평균기온']\n"
   ]
  },
  {
   "cell_type": "markdown",
   "id": "ac66767d",
   "metadata": {},
   "source": [
    "## 특성 선택"
   ]
  },
  {
   "cell_type": "code",
   "execution_count": 12,
   "id": "ec284fc0",
   "metadata": {},
   "outputs": [],
   "source": [
    "from sklearn.feature_selection import SelectKBest, f_regression\n",
    "# 특성 선택: F-검정을 사용하여 상위 k개의 특성 선택 (k는 선택할 특성의 개수)\n",
    "k = 5\n",
    "selector = SelectKBest(score_func=f_regression, k=k)\n",
    "X_new = selector.fit_transform(X, y)\n"
   ]
  },
  {
   "cell_type": "code",
   "execution_count": 13,
   "id": "d311b1e6",
   "metadata": {},
   "outputs": [],
   "source": [
    "selected_feature_indices = selector.get_support(indices=True)\n",
    "selected_features = X.columns[selected_feature_indices]\n"
   ]
  },
  {
   "cell_type": "code",
   "execution_count": 14,
   "id": "b539fbd6",
   "metadata": {},
   "outputs": [
    {
     "data": {
      "text/plain": [
       "Index(['최고기온', '최저기온', '평균습도', '일사합', '일조율'], dtype='object')"
      ]
     },
     "execution_count": 14,
     "metadata": {},
     "output_type": "execute_result"
    }
   ],
   "source": [
    "selected_features"
   ]
  },
  {
   "cell_type": "code",
   "execution_count": 16,
   "id": "2f0a1a4a",
   "metadata": {},
   "outputs": [],
   "source": [
    "from sklearn.model_selection import train_test_split\n",
    "# 입력 특성과 타겟 변수 분리\n",
    "X = train_data[['최고기온', '최저기온', '평균습도', '일사합', '일조율']]\n",
    "y = train_data['평균기온']\n",
    "\n",
    "# 데이터를 학습용과 테스트용으로 분할\n",
    "X_train, X_test, y_train, y_test = train_test_split(X, y, test_size=0.2, random_state=42)\n"
   ]
  },
  {
   "cell_type": "code",
   "execution_count": 17,
   "id": "0608af28",
   "metadata": {},
   "outputs": [],
   "source": [
    "# 선형 회귀 모델 생성 및 학습\n",
    "model = LinearRegression()\n",
    "model.fit(X_train, y_train)\n",
    "\n",
    "# 학습된 모델로 예측\n",
    "y_pred = model.predict(X_test)"
   ]
  },
  {
   "cell_type": "code",
   "execution_count": 20,
   "id": "1ecf48bf",
   "metadata": {},
   "outputs": [
    {
     "data": {
      "text/plain": [
       "array([0.59133634, 0.790784  , 0.85254843, ..., 0.49046825, 0.30480297,\n",
       "       0.54718118])"
      ]
     },
     "execution_count": 20,
     "metadata": {},
     "output_type": "execute_result"
    }
   ],
   "source": [
    "y_pred"
   ]
  },
  {
   "cell_type": "code",
   "execution_count": 19,
   "id": "7ef1814f",
   "metadata": {},
   "outputs": [
    {
     "name": "stdout",
     "output_type": "stream",
     "text": [
      "평균 제곱 오차 (MSE): 0.00\n",
      "결정 계수 (R-squared): 1.00\n"
     ]
    }
   ],
   "source": [
    "from sklearn.metrics import mean_squared_error, r2_score\n",
    "# 모델 평가\n",
    "mse = mean_squared_error(y_test, y_pred)\n",
    "r2 = r2_score(y_test, y_pred)\n",
    "\n",
    "print(f\"평균 제곱 오차 (MSE): {mse:.2f}\")\n",
    "print(f\"결정 계수 (R-squared): {r2:.2f}\")"
   ]
  },
  {
   "cell_type": "code",
   "execution_count": 27,
   "id": "3badf133",
   "metadata": {},
   "outputs": [],
   "source": [
    "import pandas as pd\n",
    "\n",
    "# sample_submission.csv 파일을 읽어옵니다.\n",
    "sample_submission = pd.read_csv('C:/Users/82106/Desktop/데이터분석 프로젝트/서울시 평균 기온 예측/data/open/sample_submission.csv')\n",
    "\n",
    "# train 데이터의 마지막 날짜 다음 날짜부터 sample_submission에 있는 날짜까지를 예측합니다.\n",
    "start_date = '2023-01-01'\n",
    "end_date = '2023-12-24'\n",
    "date_range = pd.date_range(start=start_date, end=end_date)\n",
    "\n",
    "# 해당 날짜 범위로 예측한 평균 기온 값을 가져와서 sample_submission에 할당합니다.\n",
    "sample_submission['평균기온'] = y_pred[:len(date_range)]\n",
    "\n",
    "# 결과를 새로운 CSV 파일로 저장합니다.\n",
    "sample_submission.to_csv('C:/Users/82106/Desktop/데이터분석 프로젝트/서울시 평균 기온 예측/data/open/submission.csv', index=False)\n"
   ]
  },
  {
   "cell_type": "markdown",
   "id": "99615d6e",
   "metadata": {},
   "source": [
    "## SVR"
   ]
  },
  {
   "cell_type": "code",
   "execution_count": 29,
   "id": "d28a5244",
   "metadata": {},
   "outputs": [],
   "source": [
    "from sklearn.svm import SVR\n",
    "svm_model = SVR(kernel='linear')  # You can change the kernel type as needed\n",
    "svm_model.fit(X_train, y_train)\n",
    "\n",
    "# Make predictions on the test set\n",
    "y_pred_svm = svm_model.predict(X_test)\n"
   ]
  },
  {
   "cell_type": "code",
   "execution_count": 30,
   "id": "4e5d2b4a",
   "metadata": {},
   "outputs": [
    {
     "name": "stdout",
     "output_type": "stream",
     "text": [
      "SVM - MSE: 0.0010, R-squared: 0.9778\n"
     ]
    }
   ],
   "source": [
    "# Evaluate the model's performance\n",
    "mse_svm = mean_squared_error(y_test, y_pred_svm)\n",
    "r2_svm = r2_score(y_test, y_pred_svm)\n",
    "\n",
    "print(f\"SVM - MSE: {mse_svm:.4f}, R-squared: {r2_svm:.4f}\")"
   ]
  },
  {
   "cell_type": "code",
   "execution_count": 32,
   "id": "d00f4baa",
   "metadata": {},
   "outputs": [],
   "source": [
    "import pandas as pd\n",
    "\n",
    "# sample_submission.csv 파일을 읽어옵니다.\n",
    "sample_submission = pd.read_csv('C:/Users/82106/Desktop/데이터분석 프로젝트/서울시 평균 기온 예측/data/open/sample_submission.csv')\n",
    "\n",
    "# train 데이터의 마지막 날짜 다음 날짜부터 sample_submission에 있는 날짜까지를 예측합니다.\n",
    "start_date = '2023-01-01'\n",
    "end_date = '2023-12-24'\n",
    "date_range = pd.date_range(start=start_date, end=end_date)\n",
    "\n",
    "# 해당 날짜 범위로 예측한 평균 기온 값을 가져와서 sample_submission에 할당합니다.\n",
    "sample_submission['평균기온'] = y_pred_svm[:len(date_range)]\n",
    "\n",
    "# 결과를 새로운 CSV 파일로 저장합니다.\n",
    "sample_submission.to_csv('C:/Users/82106/Desktop/데이터분석 프로젝트/서울시 평균 기온 예측/data/open/submission2.csv', index=False)\n"
   ]
  },
  {
   "cell_type": "code",
   "execution_count": null,
   "id": "33eac986",
   "metadata": {},
   "outputs": [],
   "source": []
  }
 ],
 "metadata": {
  "kernelspec": {
   "display_name": "Python 3 (ipykernel)",
   "language": "python",
   "name": "python3"
  },
  "language_info": {
   "codemirror_mode": {
    "name": "ipython",
    "version": 3
   },
   "file_extension": ".py",
   "mimetype": "text/x-python",
   "name": "python",
   "nbconvert_exporter": "python",
   "pygments_lexer": "ipython3",
   "version": "3.9.12"
  }
 },
 "nbformat": 4,
 "nbformat_minor": 5
}
